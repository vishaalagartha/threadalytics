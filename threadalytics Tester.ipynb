{
 "cells": [
  {
   "cell_type": "code",
   "execution_count": 2,
   "metadata": {},
   "outputs": [],
   "source": [
    "subreddits = {'Golden State Warriors': 'r/warriors',\n",
    "   'Los Angeles Lakers': 'r/lakers',\n",
    "   'Boston Celtics': 'r/bostonceltics',\n",
    "   'Toronto Raptors': 'r/torontoraptors',\n",
    "   'Philadelphia 76ers': 'r/sixers',\n",
    "   'Chicago Bulls': 'r/chicagobulls',\n",
    "   'Houston Rockets': 'r/rockets',\n",
    "   'New York Knicks': 'r/NYKnicks',\n",
    "   'Cleveland Cavaliers': 'r/clevelandcavs',\n",
    "   'Oklahoma City Thunder': 'r/Thunder',\n",
    "   'Milwaukee Bucks': 'r/MkeBucks',\n",
    "   'Dallas Mavericks': 'r/mavericks',\n",
    "   'San Antonio Spurs': 'r/NBASpurs',\n",
    "   'Minnesota Timberwolves': 'r/timberwolves',\n",
    "   'Washington Wizards': 'r/washingtonwizards',\n",
    "   'Utah Jazz': 'r/UtahJazz',\n",
    "   'Portland Trail Blazers': 'r/ripcity',\n",
    "   'Phoenix Suns': 'r/suns',\n",
    "   'Sacramento Kings': 'r/kings',\n",
    "   'Miami Heat': 'r/heat',\n",
    "   'Denver Nuggets': 'r/denvernuggets',\n",
    "   'Atlanta Hawks': 'r/AtlantaHawks',\n",
    "   'Brooklyn Nets': 'r/GoNets',\n",
    "   'Orlando Magic': 'r/OrlandoMagic',\n",
    "   'Detroit Pistons': 'r/DetroitPistons',\n",
    "   'Los Angeles Clippers': 'r/LAClippers',\n",
    "   'Indiana Pacers': 'r/pacers',\n",
    "   'Charlotte Hornets': 'r/CharlotteHornets',\n",
    "   'New Orleans Pelicans': 'r/NOLAPelicans',\n",
    "   'Memphis Grizzlies': 'r/memphisgrizzlies',\n",
    "    'nba': 'r/nba'}\n",
    "TEAM_ABBR_TO_TEAM = {'ATL': 'Atlanta Hawks',\n",
    "   'MIL': 'Milwaukee Bucks',\n",
    "   'BOS': 'Boston Celtics',\n",
    "   'BKN': 'Brooklyn Nets',\n",
    "   'CHI': 'Chicago Bulls',\n",
    "   'CHA': 'Charlotte Hornets',\n",
    "   'CLE': 'Cleveland Cavaliers',\n",
    "   'DAL': 'Dallas Mavericks',\n",
    "   'DEN': 'Denver Nuggets',\n",
    "   'DET': 'Detroit Pistons',\n",
    "   'GSW': 'Golden State Warriors',\n",
    "   'PHI': 'Philadelphia 76ers',\n",
    "   'HOU': 'Houston Rockets',\n",
    "   'IND': 'Indiana Pacers',\n",
    "   'LAC': 'Los Angeles Clippers',\n",
    "   'LAL': 'Los Angeles Lakers',\n",
    "   'MIN': 'Minnesota Timberwolves',\n",
    "   'MEM': 'Memphis Grizzlies',\n",
    "   'MIA': 'Miami Heat',\n",
    "   'NOP': 'New Orleans Pelicans',\n",
    "   'NYK': 'New York Knicks',\n",
    "   'OKC': 'Oklahoma City Thunder',\n",
    "   'ORL': 'Orlando Magic',\n",
    "   'PHX': 'Phoenix Suns',\n",
    "   'POR': 'Portland Trail Blazers',\n",
    "   'SAC': 'Sacramento Kings',\n",
    "   'SAS': 'San Antonio Spurs',\n",
    "   'TOR': 'Toronto Raptors',\n",
    "   'UTA': 'Utah Jazz',\n",
    "   'WAS': 'Washington Wizards'}\n",
    "colors = {'ATL': {'main_color': 'red', 'secondary_color': 'white'}, 'BKN': {'main_color': 'black', 'secondary_color': 'white'}, 'BOS': {'main_color': 'green', 'secondary_color': 'white'}, 'CHA': {'main_color': 'purple', 'secondary_color': 'teal'}, 'CHI': {'main_color': 'red', 'secondary_color': 'black'}, 'CLE': {'main_color': 'wine', 'secondary_color': 'gold'}, 'DAL': {'main_color': 'blue', 'secondary_color': 'silver'}, 'DEN': {'main_color': 'blue', 'secondary_color': 'gold'}, 'DET': {'main_color': 'blue', 'secondary_color': 'red'}, 'GSW': {'main_color': 'gold', 'secondary_color': 'blue'}, 'HOU': {'main_color': 'red', 'secondary_color': 'silver'}, 'IND': {'main_color': 'blue', 'secondary_color': 'gold'}, 'LAC': {'main_color': 'red', 'secondary_color': 'blue'}, 'LAL': {'main_color': 'purple', 'secondary_color': 'gold'}, 'MEM': {'main_color': 'midnightBlue', 'secondary_color': 'bealeStreetBlue'}, 'MIA': {'main_color': 'red', 'secondary_color': 'black'}, 'MIL': {'main_color': 'green', 'secondary_color': 'cream'}, 'MIN': {'main_color': 'blue', 'secondary_color': 'green'}, 'NOP': {'main_color': 'blue', 'secondary_color': 'red'}, 'NYK': {'main_color': 'blue', 'secondary_color': 'orange'}, 'OKC': {'main_color': 'blue', 'secondary_color': 'orange'}, 'ORL': {'main_color': 'blue', 'secondary_color': 'silver'}, 'PHI': {'main_color': 'blue', 'secondary_color': 'red'}, 'PHX': {'main_color': 'orange', 'secondary_color': 'purple'}, 'POR': {'main_color': 'red', 'secondary_color': 'black'}, 'SAC': {'main_color': 'purple', 'secondary_color': 'silver'}, 'SAS': {'main_color': 'silver', 'secondary_color': 'black'}, 'TOR': {'main_color': 'red', 'secondary_color': 'silver'}, 'UTA': {'main_color': 'navy', 'secondary_color': 'yellow'}, 'WAS': {'main_color': 'navy', 'secondary_color': 'red'}}"
   ]
  },
  {
   "cell_type": "code",
   "execution_count": 6,
   "metadata": {},
   "outputs": [
    {
     "name": "stdout",
     "output_type": "stream",
     "text": [
      "AtlantaHawks\n",
      "GoNets\n",
      "bostonceltics\n",
      "CharlotteHornets\n",
      "chicagobulls\n",
      "clevelandcavs\n",
      "mavericks\n",
      "denvernuggets\n",
      "DetroitPistons\n",
      "warriors\n",
      "rockets\n",
      "pacers\n",
      "LAClippers\n",
      "lakers\n",
      "memphisgrizzlies\n",
      "heat\n",
      "MkeBucks\n",
      "timberwolves\n",
      "NOLAPelicans\n",
      "NYKnicks\n",
      "Thunder\n",
      "OrlandoMagic\n",
      "sixers\n",
      "suns\n",
      "ripcity\n",
      "kings\n",
      "NBASpurs\n",
      "torontoraptors\n",
      "UtahJazz\n",
      "washingtonwizards\n"
     ]
    }
   ],
   "source": [
    "d = {}\n",
    "for c in colors:\n",
    "    print(subreddits[TEAM_ABBR_TO_TEAM[c]][2:])\n",
    "    d[subreddits[TEAM_ABBR_TO_TEAM[c]][2:]] = colors[c]"
   ]
  },
  {
   "cell_type": "code",
   "execution_count": 7,
   "metadata": {},
   "outputs": [
    {
     "data": {
      "text/plain": [
       "{'AtlantaHawks': {'main_color': 'red', 'secondary_color': 'white'},\n",
       " 'GoNets': {'main_color': 'black', 'secondary_color': 'white'},\n",
       " 'bostonceltics': {'main_color': 'green', 'secondary_color': 'white'},\n",
       " 'CharlotteHornets': {'main_color': 'purple', 'secondary_color': 'teal'},\n",
       " 'chicagobulls': {'main_color': 'red', 'secondary_color': 'black'},\n",
       " 'clevelandcavs': {'main_color': 'wine', 'secondary_color': 'gold'},\n",
       " 'mavericks': {'main_color': 'blue', 'secondary_color': 'silver'},\n",
       " 'denvernuggets': {'main_color': 'blue', 'secondary_color': 'gold'},\n",
       " 'DetroitPistons': {'main_color': 'blue', 'secondary_color': 'red'},\n",
       " 'warriors': {'main_color': 'gold', 'secondary_color': 'blue'},\n",
       " 'rockets': {'main_color': 'red', 'secondary_color': 'silver'},\n",
       " 'pacers': {'main_color': 'blue', 'secondary_color': 'gold'},\n",
       " 'LAClippers': {'main_color': 'red', 'secondary_color': 'blue'},\n",
       " 'lakers': {'main_color': 'purple', 'secondary_color': 'gold'},\n",
       " 'memphisgrizzlies': {'main_color': 'midnightBlue',\n",
       "  'secondary_color': 'bealeStreetBlue'},\n",
       " 'heat': {'main_color': 'red', 'secondary_color': 'black'},\n",
       " 'MkeBucks': {'main_color': 'green', 'secondary_color': 'cream'},\n",
       " 'timberwolves': {'main_color': 'blue', 'secondary_color': 'green'},\n",
       " 'NOLAPelicans': {'main_color': 'blue', 'secondary_color': 'red'},\n",
       " 'NYKnicks': {'main_color': 'blue', 'secondary_color': 'orange'},\n",
       " 'Thunder': {'main_color': 'blue', 'secondary_color': 'orange'},\n",
       " 'OrlandoMagic': {'main_color': 'blue', 'secondary_color': 'silver'},\n",
       " 'sixers': {'main_color': 'blue', 'secondary_color': 'red'},\n",
       " 'suns': {'main_color': 'orange', 'secondary_color': 'purple'},\n",
       " 'ripcity': {'main_color': 'red', 'secondary_color': 'black'},\n",
       " 'kings': {'main_color': 'purple', 'secondary_color': 'silver'},\n",
       " 'NBASpurs': {'main_color': 'silver', 'secondary_color': 'black'},\n",
       " 'torontoraptors': {'main_color': 'red', 'secondary_color': 'silver'},\n",
       " 'UtahJazz': {'main_color': 'navy', 'secondary_color': 'yellow'},\n",
       " 'washingtonwizards': {'main_color': 'navy', 'secondary_color': 'red'}}"
      ]
     },
     "execution_count": 7,
     "metadata": {},
     "output_type": "execute_result"
    }
   ],
   "source": [
    "d"
   ]
  },
  {
   "cell_type": "code",
   "execution_count": null,
   "metadata": {},
   "outputs": [],
   "source": []
  }
 ],
 "metadata": {
  "kernelspec": {
   "display_name": "Python 3",
   "language": "python",
   "name": "python3"
  },
  "language_info": {
   "codemirror_mode": {
    "name": "ipython",
    "version": 3
   },
   "file_extension": ".py",
   "mimetype": "text/x-python",
   "name": "python",
   "nbconvert_exporter": "python",
   "pygments_lexer": "ipython3",
   "version": "3.6.6"
  }
 },
 "nbformat": 4,
 "nbformat_minor": 2
}
