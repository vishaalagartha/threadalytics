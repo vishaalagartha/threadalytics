{
 "cells": [
  {
   "cell_type": "code",
   "execution_count": 11,
   "metadata": {},
   "outputs": [
    {
     "name": "stdout",
     "output_type": "stream",
     "text": [
      "GAME THREAD: Phoenix Suns (28-39) @ Los Angeles Clippers (45-21) - (August 04, 2020)\n"
     ]
    }
   ],
   "source": [
    "import praw\n",
    "\n",
    "reddit = praw.Reddit(client_id='WwPSSbtRzhGNAg',\n",
    "        client_secret='erWkQeQUgQYq607cpVx3hItznjA',\n",
    "        user_agent='Comment Extraction (by /u/vagartha)',\n",
    "        password='ilostmylaptop123',\n",
    "        username='vagartha')\n",
    "reddit.read_only = True\n",
    "submission = reddit.submission(id=\"i3pdlr\")\n",
    "print(submission.title)"
   ]
  },
  {
   "cell_type": "code",
   "execution_count": 12,
   "metadata": {},
   "outputs": [
    {
     "name": "stdout",
     "output_type": "stream",
     "text": [
      "[Comment(id='g0diydj'), Comment(id='g0dse8g'), Comment(id='g0dixdu'), Comment(id='g0donti'), Comment(id='g0dsa3h'), Comment(id='g0dtu7k'), Comment(id='g0djk32'), Comment(id='g0djq9e'), Comment(id='g0doh4p'), Comment(id='g0doqb0'), Comment(id='g0dr6tc'), Comment(id='g0du0c1'), Comment(id='g0dgnjf'), Comment(id='g0djy01'), Comment(id='g0dogk7'), Comment(id='g0domcp'), Comment(id='g0dpj0b'), Comment(id='g0dtykh'), Comment(id='g0du0oe'), Comment(id='g0d0wjx'), Comment(id='g0doho5'), Comment(id='g0dt1fn'), Comment(id='g0dt6w9'), Comment(id='g0dt6zk'), Comment(id='g0dtbg3'), Comment(id='g0dtui7'), Comment(id='g0dtz70'), Comment(id='g0dtzc5'), Comment(id='g0dofe0'), Comment(id='g0dox3y'), Comment(id='g0dqu7b'), Comment(id='g0drcph'), Comment(id='g0ds9lk'), Comment(id='g0dsecl'), Comment(id='g0dt7c3'), Comment(id='g0dtapd'), Comment(id='g0dtu4n'), Comment(id='g0dtzfu'), Comment(id='g0ditui'), Comment(id='g0dixpb'), Comment(id='g0djh9t'), Comment(id='g0djhwp'), Comment(id='g0djmze'), Comment(id='g0dohea'), Comment(id='g0dpa0z'), Comment(id='g0dpfgs'), Comment(id='g0dreaa'), Comment(id='g0drm4d'), Comment(id='g0ds8nj'), Comment(id='g0dsacw'), Comment(id='g0dsap0'), Comment(id='g0dsh8l'), Comment(id='g0dsswj'), Comment(id='g0dt6au'), Comment(id='g0dt77k'), Comment(id='g0dtd0z'), Comment(id='g0dtlg7'), Comment(id='g0dtsaf'), Comment(id='g0dtthe'), Comment(id='g0dttu8'), Comment(id='g0dttvp'), Comment(id='g0dtu6s'), Comment(id='g0dtu80'), Comment(id='g0dtx8h'), Comment(id='g0dtxha'), Comment(id='g0dtyuq'), Comment(id='g0dtz64'), Comment(id='g0du0ol'), Comment(id='g0du385'), Comment(id='g0du50g'), Comment(id='g0du5vw'), Comment(id='g0dtjtm'), Comment(id='g0dtkrm'), Comment(id='g0djl93'), Comment(id='g0dpdlu'), Comment(id='g0d58cl'), Comment(id='g0dghep'), Comment(id='g0dhbqg'), Comment(id='g0didmp'), Comment(id='g0dj91d'), Comment(id='g0djfws'), Comment(id='g0djks3'), Comment(id='g0dohe0'), Comment(id='g0dor6t'), Comment(id='g0dqpfo'), Comment(id='g0dqwwl'), Comment(id='g0dqxwo'), Comment(id='g0dsb4g'), Comment(id='g0dsdu2'), Comment(id='g0dt75f'), Comment(id='g0dtbdl'), Comment(id='g0dtlhq'), Comment(id='g0dtm5e'), Comment(id='g0dtrbw'), Comment(id='g0dtrh0'), Comment(id='g0dttl3'), Comment(id='g0dttvw'), Comment(id='g0dtu3g'), Comment(id='g0dtzfl'), Comment(id='g0dtzgh'), Comment(id='g0dtzlz'), Comment(id='g0du09y'), Comment(id='g0du12g'), Comment(id='g0du12q'), Comment(id='g0d1ga4'), Comment(id='g0dc54p'), Comment(id='g0de2sz'), Comment(id='g0de8mw'), Comment(id='g0dhdfk'), Comment(id='g0dhjwh'), Comment(id='g0dif3g'), Comment(id='g0djnpq'), Comment(id='g0dm5yk'), Comment(id='g0dm8r6'), Comment(id='g0dn10j'), Comment(id='g0dn7nm'), Comment(id='g0dnx76'), Comment(id='g0dogyf'), Comment(id='g0dohxq'), Comment(id='g0dojyq'), Comment(id='g0doktk'), Comment(id='g0dopd6'), Comment(id='g0doq5z'), Comment(id='g0doqu3'), Comment(id='g0dosq2'), Comment(id='g0dpaum'), Comment(id='g0dpbgv'), Comment(id='g0dpkdu'), Comment(id='g0dptg5'), Comment(id='g0dr532'), Comment(id='g0dr8lf'), Comment(id='g0drj8y'), Comment(id='g0ds72k'), Comment(id='g0dsjcm'), Comment(id='g0dt5na'), Comment(id='g0dt7oe'), Comment(id='g0dt8gj'), Comment(id='g0dt98m'), Comment(id='g0dta0k'), Comment(id='g0dtags'), Comment(id='g0dtbwx'), Comment(id='g0dtcc7'), Comment(id='g0dthj0'), Comment(id='g0dtjoa'), Comment(id='g0dts5j'), Comment(id='g0dtse4'), Comment(id='g0dtt66'), Comment(id='g0dtt7h'), Comment(id='g0dttfe'), Comment(id='g0dttkt'), Comment(id='g0dttmo'), Comment(id='g0dttrd'), Comment(id='g0dtty2'), Comment(id='g0dtvoi'), Comment(id='g0dtwev'), Comment(id='g0dtwps'), Comment(id='g0dtxn1'), Comment(id='g0dtxy3'), Comment(id='g0dtxzu'), Comment(id='g0dtyab'), Comment(id='g0du4mj'), Comment(id='g0du60v'), Comment(id='g0do7cp'), Comment(id='g0dsfxw'), Comment(id='g0dte9r'), Comment(id='g0dtjlv'), Comment(id='g0docrc'), Comment(id='g0d3krf'), Comment(id='g0dg3zr'), Comment(id='g0dg6ey'), Comment(id='g0dhbvb'), Comment(id='g0dhf30'), Comment(id='g0dhjea'), Comment(id='g0dhjx0'), Comment(id='g0dhkt3'), Comment(id='g0diba3'), Comment(id='g0diemd'), Comment(id='g0diq1f'), Comment(id='g0diqei'), Comment(id='g0disc9'), Comment(id='g0disj5'), Comment(id='g0ditmm'), Comment(id='g0dj4iw'), Comment(id='g0dkb9p'), Comment(id='g0dm746'), Comment(id='g0dmjkx'), Comment(id='g0dmqdh'), Comment(id='g0dngm2'), Comment(id='g0dnk9d'), Comment(id='g0dnz2s'), Comment(id='g0doeb7'), Comment(id='g0doev6'), Comment(id='g0dopqn'), Comment(id='g0dotmu'), Comment(id='g0douit'), Comment(id='g0dp9s9'), Comment(id='g0dpkcc'), Comment(id='g0drdd1'), Comment(id='g0ds6p7'), Comment(id='g0ds8lz'), Comment(id='g0dscde'), Comment(id='g0dt36u'), Comment(id='g0dt3l1'), Comment(id='g0dt9q7'), Comment(id='g0dt9s0'), Comment(id='g0dt9zf'), Comment(id='g0dtdgy'), Comment(id='g0dtju1'), Comment(id='g0dtqpu'), Comment(id='g0dtrdr'), Comment(id='g0dts47'), Comment(id='g0dts6n'), Comment(id='g0dts7g'), Comment(id='g0dtuf6'), Comment(id='g0dtuw0'), Comment(id='g0dtvc1'), Comment(id='g0dtvxj'), Comment(id='g0dtwor'), Comment(id='g0dtwyb'), Comment(id='g0dtx0c'), Comment(id='g0dtx0i'), Comment(id='g0dtxbk'), Comment(id='g0dtxkr'), Comment(id='g0dtxna'), Comment(id='g0dty8h'), Comment(id='g0dtz4p'), Comment(id='g0dtza2'), Comment(id='g0du1ob'), Comment(id='g0dte4f'), Comment(id='g0dti2m'), Comment(id='g0dtik6'), Comment(id='g0ds8wx'), Comment(id='g0dtgaz'), Comment(id='g0ds9nq'), Comment(id='g0ds8sj'), Comment(id='g0dtglv'), Comment(id='g0dtgon'), Comment(id='g0czxgy'), Comment(id='g0dcebx'), Comment(id='g0dddhq'), Comment(id='g0ddpio'), Comment(id='g0ddrwm'), Comment(id='g0ddtjq'), Comment(id='g0ddx77'), Comment(id='g0ddxyg'), Comment(id='g0dend3'), Comment(id='g0deoqi'), Comment(id='g0df2mv'), Comment(id='g0dha54'), Comment(id='g0dhqes'), Comment(id='g0dijoc'), Comment(id='g0diq2g'), Comment(id='g0dirsp'), Comment(id='g0ditib'), Comment(id='g0ditwc'), Comment(id='g0divw3'), Comment(id='g0dksih'), Comment(id='g0dlggx'), Comment(id='g0dlodn'), Comment(id='g0dm2jt'), Comment(id='g0dm4s9'), Comment(id='g0dmoqy'), Comment(id='g0dn5ul'), Comment(id='g0dnd0v'), Comment(id='g0dnh41'), Comment(id='g0dni1z'), Comment(id='g0doeeo'), Comment(id='g0dopz5'), Comment(id='g0doq4g'), Comment(id='g0doqxu'), Comment(id='g0dotri'), Comment(id='g0dpax1'), Comment(id='g0dpbqk'), Comment(id='g0dpf4f'), Comment(id='g0dps8p'), Comment(id='g0dpwhs'), Comment(id='g0dpz18'), Comment(id='g0dpzkd'), Comment(id='g0dq9zv'), Comment(id='g0dqanh'), Comment(id='g0dqbjj'), Comment(id='g0dqc61'), Comment(id='g0ds7dm'), Comment(id='g0dsdty'), Comment(id='g0dsenl'), Comment(id='g0dsy7z'), Comment(id='g0dsz63'), Comment(id='g0dszug'), Comment(id='g0dt3t2'), Comment(id='g0dt52f'), Comment(id='g0dt56x'), Comment(id='g0dt5z3'), Comment(id='g0dt617'), Comment(id='g0dt6ax'), Comment(id='g0dt6n7'), Comment(id='g0dt7yy'), Comment(id='g0dt8gv'), Comment(id='g0dt8o7'), Comment(id='g0dt974'), Comment(id='g0dt9w7'), Comment(id='g0dtb09'), Comment(id='g0dtcrb'), Comment(id='g0dtlhc'), Comment(id='g0dtmm4'), Comment(id='g0dtmtf'), Comment(id='g0dtobk'), Comment(id='g0dtohq'), Comment(id='g0dtpyh'), Comment(id='g0dtq25'), Comment(id='g0dtq27'), Comment(id='g0dtqb3'), Comment(id='g0dtruz'), Comment(id='g0dtsab'), Comment(id='g0dtsjd'), Comment(id='g0dtswc'), Comment(id='g0dtt5k'), Comment(id='g0dttar'), Comment(id='g0dttgb'), Comment(id='g0dttku'), Comment(id='g0dtv2n'), Comment(id='g0dtv55'), Comment(id='g0dtvg2'), Comment(id='g0dtvuu'), Comment(id='g0dtvyh'), Comment(id='g0dtvz0'), Comment(id='g0dtw46'), Comment(id='g0dtwsy'), Comment(id='g0dtwzt'), Comment(id='g0dtxcr'), Comment(id='g0dty2a'), Comment(id='g0dtya2'), Comment(id='g0dtyst'), Comment(id='g0dtzhc'), Comment(id='g0du09u'), Comment(id='g0du1mn'), Comment(id='g0du4ga'), Comment(id='g0dokz1'), Comment(id='g0dody5'), Comment(id='g0dpt4k'), Comment(id='g0dsilw'), Comment(id='g0dttye'), Comment(id='g0dn7vt'), Comment(id='g0dscri'), Comment(id='g0dsh6i'), Comment(id='g0du6oo'), Comment(id='g0dsaj3'), Comment(id='g0d6asq'), Comment(id='g0d9id8'), Comment(id='g0dc02h'), Comment(id='g0dctmh'), Comment(id='g0ddiii'), Comment(id='g0ddj37'), Comment(id='g0ddlw4'), Comment(id='g0ddpim'), Comment(id='g0ddrum'), Comment(id='g0ddrwj'), Comment(id='g0ddx76'), Comment(id='g0ddx8d'), Comment(id='g0ddxai'), Comment(id='g0ddxr1'), Comment(id='g0ddycv'), Comment(id='g0ddyjz'), Comment(id='g0de4fm'), Comment(id='g0de56o'), Comment(id='g0degl7'), Comment(id='g0depym'), Comment(id='g0df1ak'), Comment(id='g0dfvyk'), Comment(id='g0dget1'), Comment(id='g0dgn0s'), Comment(id='g0dh0fv'), Comment(id='g0dhqys'), Comment(id='g0di6rq'), Comment(id='g0dif00'), Comment(id='g0dir1a'), Comment(id='g0div4f'), Comment(id='g0djcxa'), Comment(id='g0dk39m'), Comment(id='g0dkbwl'), Comment(id='g0dkoxx'), Comment(id='g0dkrj4'), Comment(id='g0dm45u'), Comment(id='g0dm71o'), Comment(id='g0dmeub'), Comment(id='g0dmgq4'), Comment(id='g0dmyim'), Comment(id='g0dn077'), Comment(id='g0dn3f1'), Comment(id='g0dndax'), Comment(id='g0dnjgn'), Comment(id='g0dnjhc'), Comment(id='g0dnlch'), Comment(id='g0dnlgn'), Comment(id='g0dnpo7'), Comment(id='g0dnquy'), Comment(id='g0dnu1x'), Comment(id='g0dnvgn'), Comment(id='g0dnw1y'), Comment(id='g0dnxze'), Comment(id='g0do2ez'), Comment(id='g0do79c'), Comment(id='g0dob8q'), Comment(id='g0doshp'), Comment(id='g0dot80'), Comment(id='g0dp65o'), Comment(id='g0dp6tx'), Comment(id='g0dp7nq'), Comment(id='g0dp8x7'), Comment(id='g0dpc7i'), Comment(id='g0dpepc'), Comment(id='g0dpqg0'), Comment(id='g0dpv6b'), Comment(id='g0dpzay'), Comment(id='g0dq78l'), Comment(id='g0dqvjy'), Comment(id='g0dqz4x'), Comment(id='g0dr0qv'), Comment(id='g0dr802'), Comment(id='g0drcpn'), Comment(id='g0drh2h'), Comment(id='g0ds4p8'), Comment(id='g0ds586'), Comment(id='g0ds5sq'), Comment(id='g0dsc39'), Comment(id='g0dscew'), Comment(id='g0dsfla'), Comment(id='g0dsqrm'), Comment(id='g0dss8z'), Comment(id='g0dsvzv'), Comment(id='g0dsza2'), Comment(id='g0dszpz'), Comment(id='g0dt410'), Comment(id='g0dt549'), Comment(id='g0dtfn7'), Comment(id='g0dtkf0'), Comment(id='g0dtm4y'), Comment(id='g0dtmmp'), Comment(id='g0dtn9v'), Comment(id='g0dto7b'), Comment(id='g0dtoy5'), Comment(id='g0dtpm4'), Comment(id='g0dtq11'), Comment(id='g0dtqb2'), Comment(id='g0dtqk4'), Comment(id='g0dtr13'), Comment(id='g0dtr4a'), Comment(id='g0dts4k'), Comment(id='g0dtsvw'), Comment(id='g0dtsww'), Comment(id='g0dtsy6'), Comment(id='g0dtt5i'), Comment(id='g0dttb4'), Comment(id='g0dtth2'), Comment(id='g0dtvbt'), Comment(id='g0dtvdu'), Comment(id='g0dtvpe'), Comment(id='g0dtvse'), Comment(id='g0dtwf8'), Comment(id='g0dtwiv'), Comment(id='g0dtwvf'), Comment(id='g0dtwwz'), Comment(id='g0dtx1n'), Comment(id='g0dtx4n'), Comment(id='g0dtxhq'), Comment(id='g0dtyyp'), Comment(id='g0du05z'), Comment(id='g0du2am'), Comment(id='g0du3n3'), Comment(id='g0du87v'), Comment(id='g0dobpb'), Comment(id='g0dcjmu'), Comment(id='g0dhjw4'), Comment(id='g0do8se'), Comment(id='g0dopiv'), Comment(id='g0dqy5q'), Comment(id='g0dteq6'), Comment(id='g0dtkmy'), Comment(id='g0doik6'), Comment(id='g0ds7wy'), Comment(id='g0dspz2'), Comment(id='g0du2do'), Comment(id='g0dbjw2'), Comment(id='g0dbkfw'), Comment(id='g0dblf2'), Comment(id='g0dbpje'), Comment(id='g0dce1m'), Comment(id='g0dcf2b'), Comment(id='g0dd9u0'), Comment(id='g0dddg1'), Comment(id='g0ddgv6'), Comment(id='g0de2zh'), Comment(id='g0deqa9'), Comment(id='g0df0qq'), Comment(id='g0df9j1'), Comment(id='g0dgavh'), Comment(id='g0dgxtw'), Comment(id='g0dh0ze'), Comment(id='g0dh8mj'), Comment(id='g0dhq1a'), Comment(id='g0dhs5r'), Comment(id='g0dicm3'), Comment(id='g0dinmq'), Comment(id='g0dja95'), Comment(id='g0dji8n'), Comment(id='g0dk8gp'), Comment(id='g0dkg0w'), Comment(id='g0dkmic'), Comment(id='g0dknge'), Comment(id='g0dkpqe'), Comment(id='g0dlqo4'), Comment(id='g0dm3p8'), Comment(id='g0dmotw'), Comment(id='g0dmssl'), Comment(id='g0dmwqt'), Comment(id='g0dn2hx'), Comment(id='g0dnbk9'), Comment(id='g0dnbx6'), Comment(id='g0dndta'), Comment(id='g0dnfnw'), Comment(id='g0dng8r'), Comment(id='g0dnsxw'), Comment(id='g0dnuw5'), Comment(id='g0do29b'), Comment(id='g0do5j8'), Comment(id='g0dp4qd'), Comment(id='g0dp64y'), Comment(id='g0dp8pl'), Comment(id='g0dpbq8'), Comment(id='g0dpbv9'), Comment(id='g0dpdaz'), Comment(id='g0dpvim'), Comment(id='g0dqcur'), Comment(id='g0dqjud'), Comment(id='g0dqzoh'), Comment(id='g0dqzyb'), Comment(id='g0draiu'), Comment(id='g0drxos'), Comment(id='g0ds50k'), Comment(id='g0dschx'), Comment(id='g0dsepi'), Comment(id='g0dsgz9'), Comment(id='g0dss79'), Comment(id='g0dswhu'), Comment(id='g0dt0ly'), Comment(id='g0dt41v'), Comment(id='g0dtays'), Comment(id='g0dtnnh'), Comment(id='g0dtnuh'), Comment(id='g0dtpg0'), Comment(id='g0dtrue'), Comment(id='g0dtsyl'), Comment(id='g0dtt1t'), Comment(id='g0dtvcq'), Comment(id='g0dtvdh'), Comment(id='g0dtvmi'), Comment(id='g0dtvmu'), Comment(id='g0dtw8r'), Comment(id='g0dtwf3'), Comment(id='g0dtwla'), Comment(id='g0dtwwm'), Comment(id='g0dtxff'), Comment(id='g0dtxg4'), Comment(id='g0d3ked'), Comment(id='g0do40i'), Comment(id='g0deua8'), Comment(id='g0dix1d'), Comment(id='g0dmubc'), Comment(id='g0do6z2'), Comment(id='g0do7k4'), Comment(id='g0dp4mp'), Comment(id='g0drbrs'), Comment(id='g0dt5fn'), Comment(id='g0dt96j'), Comment(id='g0dhfdg'), Comment(id='g0djksq'), Comment(id='g0djqeo'), Comment(id='g0drk9l'), Comment(id='g0dso7m'), Comment(id='g0dt0vh'), Comment(id='g0d18at'), Comment(id='g0de2uw'), Comment(id='g0devsu'), Comment(id='g0dic6e'), Comment(id='g0dij3h'), Comment(id='g0djqgf'), Comment(id='g0dn5jo'), Comment(id='g0dp6xg'), Comment(id='g0dpkyd'), Comment(id='g0dqqt6'), Comment(id='g0dr5f4'), Comment(id='g0dr7h4'), Comment(id='g0dsds8'), Comment(id='g0dst9e'), Comment(id='g0dt5ai'), Comment(id='g0dtav2'), Comment(id='g0dtdda'), Comment(id='g0dtfiw'), Comment(id='g0d3fug'), Comment(id='g0djp28'), Comment(id='g0drdlz'), Comment(id='g0dswsn'), Comment(id='g0dtmkl'), Comment(id='g0dhgxt'), Comment(id='g0dteee'), Comment(id='g0dhjha'), Comment(id='g0doduq'), Comment(id='g0db26u'), Comment(id='g0dbt3p'), Comment(id='g0dch4k'), Comment(id='g0dddts'), Comment(id='g0ddt1i'), Comment(id='g0ddyj9'), Comment(id='g0ddzlc'), Comment(id='g0dei7j'), Comment(id='g0devqh'), Comment(id='g0df4vx'), Comment(id='g0dfeto'), Comment(id='g0dgupg'), Comment(id='g0dgvzx'), Comment(id='g0dhm4p'), Comment(id='g0dhwfv'), Comment(id='g0ditgr'), Comment(id='g0diutd'), Comment(id='g0divnb'), Comment(id='g0dj550'), Comment(id='g0djcfp'), Comment(id='g0dk0j5'), Comment(id='g0dk4y3'), Comment(id='g0dkoaz'), Comment(id='g0dlw7v'), Comment(id='g0dm18d'), Comment(id='g0dm9s5'), Comment(id='g0dmmva'), Comment(id='g0dms28'), Comment(id='g0dmx0f'), Comment(id='g0dmx28'), Comment(id='g0dmx8q'), Comment(id='g0dmy4z'), Comment(id='g0dn4i5'), Comment(id='g0dniii'), Comment(id='g0dnpzo'), Comment(id='g0dnsk1'), Comment(id='g0dnugd'), Comment(id='g0dnur7'), Comment(id='g0dnus0'), Comment(id='g0dnuym'), Comment(id='g0dnx3p'), Comment(id='g0do1dx'), Comment(id='g0doa34'), Comment(id='g0dobtz'), Comment(id='g0dpezz'), Comment(id='g0dprln'), Comment(id='g0dptkk'), Comment(id='g0dq8hy'), Comment(id='g0dq92z'), Comment(id='g0dq9n7'), Comment(id='g0dqjn1'), Comment(id='g0dqkgd'), Comment(id='g0dqq1d'), Comment(id='g0dr361'), Comment(id='g0drcbd'), Comment(id='g0drdif'), Comment(id='g0dru4s'), Comment(id='g0dryt1'), Comment(id='g0dryvn'), Comment(id='g0drzbi'), Comment(id='g0ds4fj'), Comment(id='g0ds53b'), Comment(id='g0ds7i5'), Comment(id='g0dsbb0'), Comment(id='g0dsr95'), Comment(id='g0dsva7'), Comment(id='g0dszld'), Comment(id='g0dt3z6'), Comment(id='g0dt4zv'), Comment(id='g0dtr8x'), Comment(id='g0dtta0'), Comment(id='g0dtwd5'), Comment(id='g0dtxss'), Comment(id='g0du6mi'), Comment(id='g0e2de0'), Comment(id='g0d2epn'), Comment(id='g0dq3as'), Comment(id='g0dscqw'), Comment(id='g0d7rq6'), Comment(id='g0dfvbh'), Comment(id='g0dgbib'), Comment(id='g0dh7kf'), Comment(id='g0dhy88'), Comment(id='g0dk8s8'), Comment(id='g0dmmc1'), Comment(id='g0dmvl2'), Comment(id='g0dnzu4'), Comment(id='g0do3lj'), Comment(id='g0do82k'), Comment(id='g0dohxt'), Comment(id='g0dokwi'), Comment(id='g0dqhsc'), Comment(id='g0dqj2w'), Comment(id='g0dsjht'), Comment(id='g0dt1cx'), Comment(id='g0d1ra5'), Comment(id='g0dt0cc'), Comment(id='g0dfx4o'), Comment(id='g0dta2y'), Comment(id='g0ds7oh'), Comment(id='g0dhiec'), Comment(id='g0djx9v'), Comment(id='g0dqezh'), Comment(id='g0dhe3n'), Comment(id='g0dm855'), Comment(id='g0doda7'), Comment(id='g0dcxv1'), Comment(id='g0dj5yc'), Comment(id='g0dhgfw'), Comment(id='g0daydz'), Comment(id='g0dci9g'), Comment(id='g0ddhu4'), Comment(id='g0deuoo'), Comment(id='g0dha61'), Comment(id='g0dlxz9'), Comment(id='g0dm55j'), Comment(id='g0dmu07'), Comment(id='g0dqrm6'), Comment(id='g0dqsbt'), Comment(id='g0ds4rs'), Comment(id='g0dsxuc'), Comment(id='g0d3kpg'), Comment(id='g0dce0r'), Comment(id='g0dtc2m'), Comment(id='g0dall9'), Comment(id='g0dif7o'), Comment(id='g0dils6'), Comment(id='g0dqiax'), Comment(id='g0drj8x'), Comment(id='g0dtfee'), Comment(id='g0dchio'), Comment(id='g0do8tb'), Comment(id='g0dq0t5'), Comment(id='g0dtplv'), Comment(id='g0di0vp'), Comment(id='g0dofy7'), Comment(id='g0deyr1'), Comment(id='g0dj3pn'), Comment(id='g0dsnl1'), Comment(id='g0djepu'), Comment(id='g0drage'), Comment(id='g0dri34'), Comment(id='g0dh60f'), Comment(id='g0dkh7w'), Comment(id='g0dkgr8'), Comment(id='g0dk1re'), Comment(id='g0dk6pg'), Comment(id='g0dkrwu'), Comment(id='g0dk4m0'), Comment(id='g0dk6we'), Comment(id='g0dk8g9'), Comment(id='g0dpuo9'), Comment(id='g0dt3aa'), Comment(id='g0dqwnr'), Comment(id='g0drk7y'), Comment(id='g0dsix4'), Comment(id='g0dj9kh'), Comment(id='g0dpdjr'), Comment(id='g0dq0n5'), Comment(id='g0drpnm'), Comment(id='g0drs2m'), Comment(id='g0drshc'), Comment(id='g0drsmq'), Comment(id='g0dsfqk'), Comment(id='g0dsuzc'), Comment(id='g0dt2wd'), Comment(id='g0dt985'), Comment(id='g0du4yq'), Comment(id='g0dusuk'), Comment(id='g0dqgu0'), Comment(id='g0dpeva'), Comment(id='g0dq1v0'), Comment(id='g0d72e1'), Comment(id='g0dgo99'), Comment(id='g0dif2z'), Comment(id='g0dqwrj'), Comment(id='g0dr0v8'), Comment(id='g0drjk1'), Comment(id='g0dsg22'), Comment(id='g0dteuj'), Comment(id='g0dtnje'), Comment(id='g0dtuh0'), Comment(id='g0du1sl'), Comment(id='g0dckkg'), Comment(id='g0dcqw3'), Comment(id='g0dfdyo'), Comment(id='g0denjf'), Comment(id='g0dep6j'), Comment(id='g0df6iw'), Comment(id='g0dmcem'), Comment(id='g0do6t4'), Comment(id='g0doakp'), Comment(id='g0dos3a'), Comment(id='g0dou0v'), Comment(id='g0dp07z'), Comment(id='g0dpol6'), Comment(id='g0dpwfo'), Comment(id='g0dq0po'), Comment(id='g0dq19s'), Comment(id='g0driym'), Comment(id='g0dreyp'), Comment(id='g0dseu8'), Comment(id='g0dtf0c'), Comment(id='g0dtf8n'), Comment(id='g0dobpg'), Comment(id='g0dgdj8'), Comment(id='g0dh81j'), Comment(id='g0ditn5'), Comment(id='g0diwas'), Comment(id='g0dmk3v'), Comment(id='g0dng3c'), Comment(id='g0dn6ud'), Comment(id='g0dnwjn'), Comment(id='g0dsegt'), Comment(id='g0du6yj'), Comment(id='g0dsdbx'), Comment(id='g0d01hw'), Comment(id='g0de2ji'), Comment(id='g0df2wr'), Comment(id='g0dlqvp'), Comment(id='g0dlxjn'), Comment(id='g0dmgcw'), Comment(id='g0dpxi5'), Comment(id='g0dsnmh'), Comment(id='g0dtc1n'), Comment(id='g0dopru'), Comment(id='g0dp0a2'), Comment(id='g0dopdb'), Comment(id='g0dsnry'), Comment(id='g0dsgpx'), Comment(id='g0d706r'), Comment(id='g0deruh'), Comment(id='g0dg7pm'), Comment(id='g0dgqhb'), Comment(id='g0dhcfv'), Comment(id='g0djt7h'), Comment(id='g0dl7q4'), Comment(id='g0dnxe3'), Comment(id='g0dnt9s'), Comment(id='g0dpz6v'), Comment(id='g0dpzdt'), Comment(id='g0dr1j5'), Comment(id='g0dr2dx'), Comment(id='g0drnem'), Comment(id='g0dshcz'), Comment(id='g0dtilj'), Comment(id='g0dty57'), Comment(id='g0dopsz'), Comment(id='g0dd0vz'), Comment(id='g0dcy8y'), Comment(id='g0dcqse'), Comment(id='g0dcr6o'), Comment(id='g0dowmm'), Comment(id='g0dp472'), Comment(id='g0dom0b'), Comment(id='g0dc0au'), Comment(id='g0dbut6'), Comment(id='g0dcftw'), Comment(id='g0dd0kl'), Comment(id='g0dget7'), Comment(id='g0dgaf8'), Comment(id='g0dgfl2'), Comment(id='g0dhl4w'), Comment(id='g0dlq0f'), Comment(id='g0dl4u5'), Comment(id='g0dmy6x'), Comment(id='g0dqe5d'), Comment(id='g0dsjd8'), Comment(id='g0dsng9'), Comment(id='g0do63f'), Comment(id='g0dpuno'), Comment(id='g0doa64'), Comment(id='g0drhre'), Comment(id='g0djnfa'), Comment(id='g0ds0m2'), Comment(id='g0dron3'), Comment(id='g0drrg0'), Comment(id='g0decbk'), Comment(id='g0df52u'), Comment(id='g0dk211'), Comment(id='g0dk2wu'), Comment(id='g0dl4eh'), Comment(id='g0dlmys'), Comment(id='g0dras0'), Comment(id='g0dsyrr'), Comment(id='g0dsvzm'), Comment(id='g0dtfm9'), Comment(id='g0d6m9b'), Comment(id='g0dhjh0'), Comment(id='g0dohce'), Comment(id='g0dfv9c'), Comment(id='g0dhuq4'), Comment(id='g0diymd'), Comment(id='g0dixme'), Comment(id='g0diyz3'), Comment(id='g0dn1tx'), Comment(id='g0dmc7o'), Comment(id='g0dmdvm'), Comment(id='g0dmgip'), Comment(id='g0dnrsy'), Comment(id='g0do4fg'), Comment(id='g0dphx7'), Comment(id='g0dq0u6'), Comment(id='g0dpwkh'), Comment(id='g0dpxry'), Comment(id='g0dqrqc'), Comment(id='g0dqr4c'), Comment(id='g0dseyv'), Comment(id='g0dseet'), Comment(id='g0dsicn'), Comment(id='g0dtbay'), Comment(id='g0dv2wl'), Comment(id='g0d2twj'), Comment(id='g0dq9ty'), Comment(id='g0d96kc'), Comment(id='g0dgj7h'), Comment(id='g0di45i'), Comment(id='g0di9cs'), Comment(id='g0di7s4'), Comment(id='g0di0ch'), Comment(id='g0dighm'), Comment(id='g0dks0v'), Comment(id='g0di8y1'), Comment(id='g0dmoxy'), Comment(id='g0do78e'), Comment(id='g0do9qt'), Comment(id='g0doria'), Comment(id='g0d1yz6'), Comment(id='g0dt4kn'), Comment(id='g0dtcax'), Comment(id='g0dtcaa'), Comment(id='g0dsa0z'), Comment(id='g0dscj6'), Comment(id='g0dsj2j'), Comment(id='g0ds8r5'), Comment(id='g0dhpks'), Comment(id='g0dmb5l'), Comment(id='g0dmeqq'), Comment(id='g0dmd2o'), Comment(id='g0dogyg'), Comment(id='g0ddjn6'), Comment(id='g0deadd'), Comment(id='g0dquce'), Comment(id='g0dqxqe'), Comment(id='g0dsgme'), Comment(id='g0d3yd0'), Comment(id='g0d8csh'), Comment(id='g0dcphv'), Comment(id='g0diq8q'), Comment(id='g0dqq5c'), Comment(id='g0dqu6v'), Comment(id='g0dqyaz'), Comment(id='g0dq6gw'), Comment(id='g0dq5yw'), Comment(id='g0dtre2'), Comment(id='g0doqfd'), Comment(id='g0douot'), Comment(id='g0dohnn'), Comment(id='g0df7wy'), Comment(id='g0df9w3'), Comment(id='g0dfcq4'), Comment(id='g0df3c3'), Comment(id='g0df59l'), Comment(id='g0dfglt'), Comment(id='g0djkkp'), Comment(id='g0dri3c'), Comment(id='g0ds6wm'), Comment(id='g0dhgw9'), Comment(id='g0dk7zx'), Comment(id='g0dtegu'), Comment(id='g0dtnvb'), Comment(id='g0dt7eh'), Comment(id='g0d83p7'), Comment(id='g0dh860'), Comment(id='g0dizri'), Comment(id='g0drao9'), Comment(id='g0dregr'), Comment(id='g0drg5s'), Comment(id='g0dmyty'), Comment(id='g0drpbq'), Comment(id='g0dtn05'), Comment(id='g0dts1y'), Comment(id='g0dgw0b'), Comment(id='g0do1rx'), Comment(id='g0de7nb'), Comment(id='g0dmfsw'), Comment(id='g0dq377'), Comment(id='g0dovst'), Comment(id='g0dppa1'), Comment(id='g0dsul2'), Comment(id='g0d9b68'), Comment(id='g0dgixb'), Comment(id='g0dgd9q'), Comment(id='g0dljvm'), Comment(id='g0dlrvw'), Comment(id='g0do833'), Comment(id='g0dre1m'), Comment(id='g0dp9qc'), Comment(id='g0dcodi'), Comment(id='g0dm6uy'), Comment(id='g0doemw'), Comment(id='g0drmvi'), Comment(id='g0djum9'), Comment(id='g0dk9oy'), Comment(id='g0dfb8m'), Comment(id='g0df90m'), Comment(id='g0dkc8y'), Comment(id='g0dkh2a'), Comment(id='g0dkexo'), Comment(id='g0drgu8'), Comment(id='g0dhm6c'), Comment(id='g0di35t'), Comment(id='g0dj3ua'), Comment(id='g0dmmhg'), Comment(id='g0ds8b1'), Comment(id='g0dsvaf'), Comment(id='g0dtlrt'), Comment(id='g0dagz7'), Comment(id='g0dgmic'), Comment(id='g0dsh3z'), Comment(id='g0dsm1j'), Comment(id='g0dt2ur'), Comment(id='g0dsldq'), Comment(id='g0di3ob'), Comment(id='g0dnoby'), Comment(id='g0ddup9'), Comment(id='g0def4y'), Comment(id='g0dooxx'), Comment(id='g0dhk22'), Comment(id='g0dl13r'), Comment(id='g0dkerg'), Comment(id='g0dsl8l'), Comment(id='g0druxu'), Comment(id='g0dq6g0'), Comment(id='g0d9pcj'), Comment(id='g0d9tsw'), Comment(id='g0dh1n2'), Comment(id='g0dlmjz'), Comment(id='g0dlx50'), Comment(id='g0dp9yt'), Comment(id='g0dcywf'), Comment(id='g0doquh'), Comment(id='g0dkm2w'), Comment(id='g0djbu3'), Comment(id='g0dt0ob'), Comment(id='g0db8bu'), Comment(id='g0divcx'), Comment(id='g0de42r'), Comment(id='g0dkww0'), Comment(id='g0ds16k'), Comment(id='g0dizaa'), Comment(id='g0dmb8y'), Comment(id='g0dd92o'), Comment(id='g0dming'), Comment(id='g0dmndw'), Comment(id='g0dmxhz')]\n"
     ]
    }
   ],
   "source": [
    "submissionList = []\n",
    "submission.comments.replace_more(limit=None)\n",
    "for comment in submission.comments.list():\n",
    "    submissionList.append(comment)\n",
    "print(submissionList)"
   ]
  },
  {
   "cell_type": "code",
   "execution_count": 6,
   "metadata": {},
   "outputs": [
    {
     "data": {
      "text/plain": [
       "1596574996.0"
      ]
     },
     "execution_count": 6,
     "metadata": {},
     "output_type": "execute_result"
    }
   ],
   "source": [
    "submissionList[0].created_utc"
   ]
  },
  {
   "cell_type": "code",
   "execution_count": 7,
   "metadata": {},
   "outputs": [
    {
     "data": {
      "text/plain": [
       "1596576692.0"
      ]
     },
     "execution_count": 7,
     "metadata": {},
     "output_type": "execute_result"
    }
   ],
   "source": [
    "submissionList[-1].created_utc"
   ]
  },
  {
   "cell_type": "code",
   "execution_count": 10,
   "metadata": {},
   "outputs": [
    {
     "name": "stdout",
     "output_type": "stream",
     "text": [
      "1596567672.0 1596580718.0\n"
     ]
    }
   ],
   "source": [
    "min_t = float('inf')\n",
    "max_t = float('-inf')\n",
    "for s in submissionList:\n",
    "    min_t = min(min_t, s.created_utc)\n",
    "    max_t = max(max_t, s.created_utc)\n",
    "print(min_t, max_t)"
   ]
  },
  {
   "cell_type": "code",
   "execution_count": null,
   "metadata": {},
   "outputs": [],
   "source": []
  }
 ],
 "metadata": {
  "kernelspec": {
   "display_name": "Python 3",
   "language": "python",
   "name": "python3"
  },
  "language_info": {
   "codemirror_mode": {
    "name": "ipython",
    "version": 3
   },
   "file_extension": ".py",
   "mimetype": "text/x-python",
   "name": "python",
   "nbconvert_exporter": "python",
   "pygments_lexer": "ipython3",
   "version": "3.6.6"
  }
 },
 "nbformat": 4,
 "nbformat_minor": 2
}
